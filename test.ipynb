{
 "cells": [
  {
   "cell_type": "code",
   "execution_count": 6,
   "metadata": {},
   "outputs": [],
   "source": [
    "from pycomplex import *\n",
    "import threading\n",
    "import multiprocessing\n",
    "import gc"
   ]
  },
  {
   "cell_type": "code",
   "execution_count": 7,
   "metadata": {},
   "outputs": [],
   "source": [
    "# MAX_DEPTH = 25"
   ]
  },
  {
   "cell_type": "code",
   "execution_count": 8,
   "metadata": {},
   "outputs": [],
   "source": [
    "def dfs(now, max_depth):\n",
    "    if now > max_depth:\n",
    "        return [now]\n",
    "    \n",
    "    return dfs(now+1, max_depth) + dfs(now+1, max_depth)"
   ]
  },
  {
   "cell_type": "code",
   "execution_count": 9,
   "metadata": {},
   "outputs": [
    {
     "name": "stdout",
     "output_type": "stream",
     "text": [
      "=============== Function Info =================\n",
      "func               :                        dfs\n",
      "args               :                    (1, 25)\n",
      "=============== Before Function ===============\n",
      "Start Time         : 2022-08-17 22:52:05.095529\n",
      "CPU percent        :                   1.200  %\n",
      "Memory percent     :                  50.900  %\n",
      "Current memory KB  :                  83.156 KB\n",
      "=============== After Function ================\n",
      "End Time           : 2022-08-17 22:52:13.133252\n",
      "Running Time       :             0:00:08.037723\n",
      "CPU percent        :                   7.600  %\n",
      "Memory percent     :                  52.400  %\n",
      "Current memory KB  :                 340.496 KB\n",
      "===============================================\n"
     ]
    }
   ],
   "source": [
    "gc.collect(generation=2)\n",
    "check_time_memory_print(dfs, 1, 25)"
   ]
  },
  {
   "cell_type": "code",
   "execution_count": null,
   "metadata": {},
   "outputs": [],
   "source": []
  }
 ],
 "metadata": {
  "kernelspec": {
   "display_name": "Python 3.9.12 ('pydatavenv')",
   "language": "python",
   "name": "python3"
  },
  "language_info": {
   "codemirror_mode": {
    "name": "ipython",
    "version": 3
   },
   "file_extension": ".py",
   "mimetype": "text/x-python",
   "name": "python",
   "nbconvert_exporter": "python",
   "pygments_lexer": "ipython3",
   "version": "3.9.12"
  },
  "orig_nbformat": 4,
  "vscode": {
   "interpreter": {
    "hash": "c405757e3131ec5e9b9c92be93af2f3b58833d6aa22e88097adfd03b2877b376"
   }
  }
 },
 "nbformat": 4,
 "nbformat_minor": 2
}
